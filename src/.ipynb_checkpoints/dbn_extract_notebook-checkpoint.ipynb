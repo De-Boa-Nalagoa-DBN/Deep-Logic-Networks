{
 "cells": [
  {
   "cell_type": "code",
   "execution_count": 1,
   "metadata": {},
   "outputs": [
    {
     "name": "stderr",
     "output_type": "stream",
     "text": [
      "/usr/local/lib/python3.5/dist-packages/h5py/__init__.py:36: FutureWarning: Conversion of the second argument of issubdtype from `float` to `np.floating` is deprecated. In future, it will be treated as `np.float64 == np.dtype(float).type`.\n",
      "  from ._conv import register_converters as _register_converters\n"
     ]
    },
    {
     "name": "stdout",
     "output_type": "stream",
     "text": [
      "WARNING:tensorflow:From /usr/local/lib/python3.5/dist-packages/tensorflow/contrib/learn/python/learn/datasets/base.py:198: retry (from tensorflow.contrib.learn.python.learn.datasets.base) is deprecated and will be removed in a future version.\n",
      "Instructions for updating:\n",
      "Use the retry module or similar alternatives.\n"
     ]
    }
   ],
   "source": [
    "import numpy as np\n",
    "from rbm import RBM\n",
    "from rule import Rule\n",
    "from modified_rbm import RBM2\n",
    "#import matplotlib.pyplot as plt\n",
    "import tensorflow as tf\n",
    "from utils import tile_raster_images\n",
    "#from PIL import Image\n",
    "from tensorflow.examples.tutorials.mnist import input_data\n",
    "from extract_knowledge import rbm_extract\n",
    "#from extract_knowledge import rbm_top_extract\n",
    "from modified_dbn import DBN as DBN2"
   ]
  },
  {
   "cell_type": "code",
   "execution_count": 2,
   "metadata": {},
   "outputs": [],
   "source": [
    "def dbn_extract(dbn, compact = True):\n",
    "    ruleSet = []\n",
    "\n",
    "    for i in range(len(dbn.w_list) -1):\n",
    "        rbm = RBM2(dbn.w_list[i].shape[0], dbn.w_list[i].shape[1])\n",
    "        rbm.load_weights(dbn.w_list[i])\n",
    "        rules_rbm = rbm_extract(rbm.wUp)\n",
    "        ruleSet.append(rules_rbm)\n",
    "    \n",
    "    if compact:\n",
    "        rbm = RBM2(dbn.w_list[i].shape[0], dbn.w_list[i].shape[1])\n",
    "        rbm.load_weights(dbn.w_list[-1])\n",
    "        rules_rbm = rbm_extract(rbm.wUp)\n",
    "        ruleSet.append(rules_rbm)\n",
    "    else:\n",
    "        rbm = RBM2(dbn.w_list[i].shape[0], dbn.w_list[i].shape[1])\n",
    "        rbm.load_weights(dbn.w_list[-1])\n",
    "        #rules_rbm = rbm_top_extract(rbm)\n",
    "        #ruleSet.append(rules_rbm)\n",
    "        \n",
    "    return ruleSet"
   ]
  },
  {
   "cell_type": "code",
   "execution_count": 3,
   "metadata": {},
   "outputs": [
    {
     "name": "stdout",
     "output_type": "stream",
     "text": [
      "WARNING:tensorflow:From <ipython-input-3-6eabea50d151>:1: read_data_sets (from tensorflow.contrib.learn.python.learn.datasets.mnist) is deprecated and will be removed in a future version.\n",
      "Instructions for updating:\n",
      "Please use alternatives such as official/mnist/dataset.py from tensorflow/models.\n",
      "WARNING:tensorflow:From /usr/local/lib/python3.5/dist-packages/tensorflow/contrib/learn/python/learn/datasets/mnist.py:260: maybe_download (from tensorflow.contrib.learn.python.learn.datasets.base) is deprecated and will be removed in a future version.\n",
      "Instructions for updating:\n",
      "Please write your own downloading logic.\n",
      "WARNING:tensorflow:From /usr/local/lib/python3.5/dist-packages/tensorflow/contrib/learn/python/learn/datasets/mnist.py:262: extract_images (from tensorflow.contrib.learn.python.learn.datasets.mnist) is deprecated and will be removed in a future version.\n",
      "Instructions for updating:\n",
      "Please use tf.data to implement this functionality.\n",
      "Extracting MNIST_data/train-images-idx3-ubyte.gz\n",
      "WARNING:tensorflow:From /usr/local/lib/python3.5/dist-packages/tensorflow/contrib/learn/python/learn/datasets/mnist.py:267: extract_labels (from tensorflow.contrib.learn.python.learn.datasets.mnist) is deprecated and will be removed in a future version.\n",
      "Instructions for updating:\n",
      "Please use tf.data to implement this functionality.\n",
      "Extracting MNIST_data/train-labels-idx1-ubyte.gz\n",
      "WARNING:tensorflow:From /usr/local/lib/python3.5/dist-packages/tensorflow/contrib/learn/python/learn/datasets/mnist.py:110: dense_to_one_hot (from tensorflow.contrib.learn.python.learn.datasets.mnist) is deprecated and will be removed in a future version.\n",
      "Instructions for updating:\n",
      "Please use tf.one_hot on tensors.\n",
      "Extracting MNIST_data/t10k-images-idx3-ubyte.gz\n",
      "Extracting MNIST_data/t10k-labels-idx1-ubyte.gz\n",
      "WARNING:tensorflow:From /usr/local/lib/python3.5/dist-packages/tensorflow/contrib/learn/python/learn/datasets/mnist.py:290: DataSet.__init__ (from tensorflow.contrib.learn.python.learn.datasets.mnist) is deprecated and will be removed in a future version.\n",
      "Instructions for updating:\n",
      "Please use alternatives such as official/mnist/dataset.py from tensorflow/models.\n"
     ]
    }
   ],
   "source": [
    "mnist = input_data.read_data_sets(\"MNIST_data/\", one_hot=True)\n",
    "trX, trY, teX, teY = mnist.train.images, mnist.train.labels, mnist.test.images,\\\n",
    "        mnist.test.labels"
   ]
  },
  {
   "cell_type": "markdown",
   "metadata": {},
   "source": [
    "dbn = DBN2([500, 200, 50], trX, trY, epochs=15)\n",
    "dbn.load_from_rbms([500, 200, 50], dbn.train_rbms())\n",
    "dbn.train()"
   ]
  },
  {
   "cell_type": "code",
   "execution_count": 15,
   "metadata": {},
   "outputs": [],
   "source": [
    "knowledgeBase = dbn_extract(dbn)"
   ]
  },
  {
   "cell_type": "code",
   "execution_count": 16,
   "metadata": {},
   "outputs": [],
   "source": [
    "with open(\"dbn_rules\", \"w\") as f:\n",
    "    for i, rules in enumerate(knowledgeBase):\n",
    "        f.write(\"\\n!!! Hierarchy {} rules!!!\\n\".format(i))\n",
    "#         print(\"Hierarchy {} rules\".format(i))\n",
    "        for r in rules:\n",
    "            f.write(\"{}: {} <-> {}\\n\".format(r.c, r.h, r.x))\n",
    "#             print(\"{}: {} <-> {}\".format(r.c, r.h, r.x))"
   ]
  },
  {
   "cell_type": "code",
   "execution_count": 19,
   "metadata": {},
   "outputs": [
    {
     "name": "stdout",
     "output_type": "stream",
     "text": [
      "\n",
      "\n",
      "RBM 0: \n",
      "\n",
      "\n",
      "RBM 1: \n",
      "\n",
      "\n",
      "RBM 2: \n",
      "\n",
      "\n",
      "RBM 3: \n",
      "Accuracy rating for epoch 0: 0.17603636363636363\n",
      "Accuracy rating for epoch 1: 0.3094181818181818\n",
      "Accuracy rating for epoch 2: 0.3102909090909091\n",
      "Accuracy rating for epoch 3: 0.3149818181818182\n",
      "Accuracy rating for epoch 4: 0.3165818181818182\n",
      "Accuracy rating for epoch 5: 0.3170363636363636\n",
      "Accuracy rating for epoch 6: 0.3185636363636364\n",
      "Accuracy rating for epoch 7: 0.3212181818181818\n",
      "Accuracy rating for epoch 8: 0.3241636363636364\n",
      "Accuracy rating for epoch 9: 0.3271090909090909\n",
      "Accuracy rating for epoch 10: 0.32954545454545453\n",
      "Accuracy rating for epoch 11: 0.3316181818181818\n",
      "Accuracy rating for epoch 12: 0.33336363636363636\n",
      "Accuracy rating for epoch 13: 0.3350181818181818\n",
      "Accuracy rating for epoch 14: 0.33683636363636366\n"
     ]
    }
   ],
   "source": [
    "sizes = [len(knowledgeBase[i]) for i in range(len(knowledgeBase))]\n",
    "dbn = DBN2(sizes, trX, trY, epochs=15)\n",
    "dbn.load_from_rbms2(sizes, dbn.ruleEncodingAlgorithm(knowledgeBase))\n",
    "dbn.train()"
   ]
  },
  {
   "cell_type": "code",
   "execution_count": null,
   "metadata": {},
   "outputs": [],
   "source": []
  }
 ],
 "metadata": {
  "kernelspec": {
   "display_name": "Python 3",
   "language": "python",
   "name": "python3"
  },
  "language_info": {
   "codemirror_mode": {
    "name": "ipython",
    "version": 3
   },
   "file_extension": ".py",
   "mimetype": "text/x-python",
   "name": "python",
   "nbconvert_exporter": "python",
   "pygments_lexer": "ipython3",
   "version": "3.5.2"
  }
 },
 "nbformat": 4,
 "nbformat_minor": 2
}
